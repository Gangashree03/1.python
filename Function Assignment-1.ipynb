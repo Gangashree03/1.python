{
 "cells": [
  {
   "cell_type": "code",
   "execution_count": 1,
   "metadata": {},
   "outputs": [],
   "source": [
    "def subfields():\n",
    "    name=[\"Sub-Fields in AI are:\",\"Machine Learning\",\"Neural Network\",\"Vision\",\"Robotics\",\"Speech Processing\",\"Natural Language Processing\"]\n",
    "    for lists in name:\n",
    "            print(lists)"
   ]
  },
  {
   "cell_type": "code",
   "execution_count": 2,
   "metadata": {},
   "outputs": [
    {
     "name": "stdout",
     "output_type": "stream",
     "text": [
      "Sub-Fields in AI are:\n",
      "Machine Learning\n",
      "Neural Network\n",
      "Vision\n",
      "Robotics\n",
      "Speech Processing\n",
      "Natural Language Processing\n"
     ]
    }
   ],
   "source": [
    "subfields()"
   ]
  },
  {
   "cell_type": "code",
   "execution_count": 3,
   "metadata": {},
   "outputs": [],
   "source": [
    "def oddeven():\n",
    "    num=int(input(\"Enter the number:\"))\n",
    "    if((num%2)==0):\n",
    "        print(num,\"is Even number\")\n",
    "    else:\n",
    "        print(num,\"is Odd number\")"
   ]
  },
  {
   "cell_type": "code",
   "execution_count": 4,
   "metadata": {},
   "outputs": [
    {
     "name": "stdout",
     "output_type": "stream",
     "text": [
      "Enter the number:52452\n",
      "52452 is Even number\n"
     ]
    }
   ],
   "source": [
    "oddeven()"
   ]
  },
  {
   "cell_type": "code",
   "execution_count": 5,
   "metadata": {},
   "outputs": [],
   "source": [
    "def eligible():\n",
    "    gender=(input(\"enter the gender:\"))\n",
    "    age=int(input(\"enter the age:\"))\n",
    "    if(gender==\"male\" and age>=21):\n",
    "        print(\"eligible\")\n",
    "    elif(gender==\"female\"and age>=18):\n",
    "        print(\"eligible\")\n",
    "    else:\n",
    "        print(\"not eligible\")"
   ]
  },
  {
   "cell_type": "code",
   "execution_count": 6,
   "metadata": {},
   "outputs": [
    {
     "name": "stdout",
     "output_type": "stream",
     "text": [
      "enter the gender:male\n",
      "enter the age:20\n",
      "not eligible\n"
     ]
    }
   ],
   "source": [
    "eligible()"
   ]
  },
  {
   "cell_type": "code",
   "execution_count": 7,
   "metadata": {},
   "outputs": [],
   "source": [
    "def marklist():\n",
    "    mark1=int(input(\"subject1=\"))\n",
    "    mark2=int(input(\"subject2=\"))\n",
    "    mark3=int(input(\"subject3=\"))\n",
    "    mark4=int(input(\"subject4=\"))\n",
    "    mark5=int(input(\"subject5=\"))\n",
    "    add=mark1+mark2+mark3+mark4+mark5\n",
    "    print(\"Total=\",add)\n",
    "    print(\"Percentage=\",add/5)"
   ]
  },
  {
   "cell_type": "code",
   "execution_count": 8,
   "metadata": {},
   "outputs": [
    {
     "name": "stdout",
     "output_type": "stream",
     "text": [
      "subject1=98\n",
      "subject2=87\n",
      "subject3=95\n",
      "subject4=95\n",
      "subject5=93\n",
      "Total= 468\n",
      "Percentage= 93.6\n"
     ]
    }
   ],
   "source": [
    "marklist()"
   ]
  },
  {
   "cell_type": "code",
   "execution_count": 9,
   "metadata": {},
   "outputs": [],
   "source": [
    "def triangle():\n",
    "    height=int(input(\"height=\"))\n",
    "    weight=int(input(\"weight=\"))\n",
    "    print(\"area formula:height*weight/2\")\n",
    "    result=height*weight/2\n",
    "    print(\"area of triangle:\",result)\n",
    "    heigh1=int(input(\"height1=\"))\n",
    "    heigh2=int(input(\"height2=\"))\n",
    "    breath=int(input(\"breath=\"))\n",
    "    print(\"perimeter formula:height1+height2+breath\")\n",
    "    ans=heigh1+heigh2+breath\n",
    "    print(\"perimeter of triangle is:\",ans)"
   ]
  },
  {
   "cell_type": "code",
   "execution_count": 10,
   "metadata": {},
   "outputs": [
    {
     "name": "stdout",
     "output_type": "stream",
     "text": [
      "height=32\n",
      "weight=34\n",
      "area formula:height*weight/2\n",
      "area of triangle: 544.0\n",
      "height1=2\n",
      "height2=4\n",
      "breath=4\n",
      "perimeter formula:height1+height2+breath\n",
      "perimeter of triangle is: 10\n"
     ]
    }
   ],
   "source": [
    "triangle()"
   ]
  },
  {
   "cell_type": "code",
   "execution_count": null,
   "metadata": {},
   "outputs": [],
   "source": []
  }
 ],
 "metadata": {
  "kernelspec": {
   "display_name": "Python 3",
   "language": "python",
   "name": "python3"
  },
  "language_info": {
   "codemirror_mode": {
    "name": "ipython",
    "version": 3
   },
   "file_extension": ".py",
   "mimetype": "text/x-python",
   "name": "python",
   "nbconvert_exporter": "python",
   "pygments_lexer": "ipython3",
   "version": "3.7.4"
  }
 },
 "nbformat": 4,
 "nbformat_minor": 2
}
