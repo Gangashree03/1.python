{
 "cells": [
  {
   "cell_type": "code",
   "execution_count": 1,
   "metadata": {},
   "outputs": [],
   "source": [
    "from classassign import classassignment"
   ]
  },
  {
   "cell_type": "code",
   "execution_count": 2,
   "metadata": {},
   "outputs": [
    {
     "name": "stdout",
     "output_type": "stream",
     "text": [
      "sub-fields in AI are:\n",
      "machine learning\n",
      "neural network\n",
      "vision\n",
      "robotics\n",
      "spech processing\n",
      "natural language processing\n"
     ]
    }
   ],
   "source": [
    "classassignment.subfields()"
   ]
  },
  {
   "cell_type": "code",
   "execution_count": 3,
   "metadata": {},
   "outputs": [
    {
     "name": "stdout",
     "output_type": "stream",
     "text": [
      "enter the gender:male\n",
      "enter the age:23\n",
      "eligible\n"
     ]
    }
   ],
   "source": [
    "classassignment.eligible()"
   ]
  },
  {
   "cell_type": "code",
   "execution_count": 4,
   "metadata": {},
   "outputs": [
    {
     "name": "stdout",
     "output_type": "stream",
     "text": [
      "enter the number:56567\n",
      "56567 is odd number\n"
     ]
    }
   ],
   "source": [
    "classassignment.oddeven()"
   ]
  },
  {
   "cell_type": "code",
   "execution_count": 5,
   "metadata": {},
   "outputs": [
    {
     "name": "stdout",
     "output_type": "stream",
     "text": [
      "subject1=78\n",
      "subject2=87\n",
      "subject3=86\n",
      "subject4=72\n",
      "subject5=79\n",
      "total= 402\n",
      "percentage= 80.4\n"
     ]
    }
   ],
   "source": [
    "classassignment.marklist()"
   ]
  },
  {
   "cell_type": "code",
   "execution_count": 6,
   "metadata": {},
   "outputs": [
    {
     "name": "stdout",
     "output_type": "stream",
     "text": [
      "height=6\n",
      "weight=7\n",
      "area formula:height*weight/2\n",
      "area of triangle: 21.0\n",
      "height1=54\n",
      "height2=45\n",
      "breath=67\n",
      "perimeter formula:height1+height2+breath\n",
      "perimeter of triangle is: 166\n"
     ]
    }
   ],
   "source": [
    "classassignment.triangle()"
   ]
  },
  {
   "cell_type": "code",
   "execution_count": null,
   "metadata": {},
   "outputs": [],
   "source": []
  }
 ],
 "metadata": {
  "kernelspec": {
   "display_name": "Python 3",
   "language": "python",
   "name": "python3"
  },
  "language_info": {
   "codemirror_mode": {
    "name": "ipython",
    "version": 3
   },
   "file_extension": ".py",
   "mimetype": "text/x-python",
   "name": "python",
   "nbconvert_exporter": "python",
   "pygments_lexer": "ipython3",
   "version": "3.7.4"
  }
 },
 "nbformat": 4,
 "nbformat_minor": 2
}
